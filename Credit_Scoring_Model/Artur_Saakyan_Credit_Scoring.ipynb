{
 "cells": [
  {
   "cell_type": "markdown",
   "metadata": {},
   "source": [
    "<center> <b> <big> Credit Scoring </big> </b> </center>\n",
    "\n",
    "Description: \n",
    "The consumer credit department of a bank wants to automate the decisionmaking process for approval of home equity lines of credit. The model will be based on data collected from recent applicants granted credit through the current process of loan underwriting.\n",
    "<br>\n",
    "<br>\n",
    "DataSet and content can be found: https://www.kaggle.com/ajay1735/hmeq-data\n",
    "<br>\n",
    "<br>\n",
    "*Saakyan Artur*"
   ]
  },
  {
   "cell_type": "code",
   "execution_count": 1,
   "metadata": {},
   "outputs": [],
   "source": [
    "import numpy as np\n",
    "import pandas as pd\n",
    "import matplotlib.pyplot as plt\n",
    "\n",
    "from sklearn.model_selection import train_test_split\n",
    "from sklearn.neighbors import KNeighborsClassifier\n",
    "from sklearn.svm import SVC\n",
    "from sklearn.tree import DecisionTreeClassifier\n",
    "from sklearn.linear_model import LogisticRegression\n",
    "from sklearn import ensemble\n",
    "from sklearn.metrics import accuracy_score, precision_score, recall_score, f1_score"
   ]
  },
  {
   "cell_type": "code",
   "execution_count": 2,
   "metadata": {},
   "outputs": [],
   "source": [
    "df = pd.read_csv(\"hmeq.csv\")"
   ]
  },
  {
   "cell_type": "markdown",
   "metadata": {},
   "source": [
    "## Analyzing the data"
   ]
  },
  {
   "cell_type": "code",
   "execution_count": 3,
   "metadata": {},
   "outputs": [
    {
     "data": {
      "text/plain": [
       "(5960, 13)"
      ]
     },
     "execution_count": 3,
     "metadata": {},
     "output_type": "execute_result"
    }
   ],
   "source": [
    "df.shape"
   ]
  },
  {
   "cell_type": "code",
   "execution_count": 4,
   "metadata": {},
   "outputs": [
    {
     "data": {
      "text/html": [
       "<div>\n",
       "<style scoped>\n",
       "    .dataframe tbody tr th:only-of-type {\n",
       "        vertical-align: middle;\n",
       "    }\n",
       "\n",
       "    .dataframe tbody tr th {\n",
       "        vertical-align: top;\n",
       "    }\n",
       "\n",
       "    .dataframe thead th {\n",
       "        text-align: right;\n",
       "    }\n",
       "</style>\n",
       "<table border=\"1\" class=\"dataframe\">\n",
       "  <thead>\n",
       "    <tr style=\"text-align: right;\">\n",
       "      <th></th>\n",
       "      <th>BAD</th>\n",
       "      <th>LOAN</th>\n",
       "      <th>MORTDUE</th>\n",
       "      <th>VALUE</th>\n",
       "      <th>REASON</th>\n",
       "      <th>JOB</th>\n",
       "      <th>YOJ</th>\n",
       "      <th>DEROG</th>\n",
       "      <th>DELINQ</th>\n",
       "      <th>CLAGE</th>\n",
       "      <th>NINQ</th>\n",
       "      <th>CLNO</th>\n",
       "      <th>DEBTINC</th>\n",
       "    </tr>\n",
       "  </thead>\n",
       "  <tbody>\n",
       "    <tr>\n",
       "      <th>0</th>\n",
       "      <td>1</td>\n",
       "      <td>1100</td>\n",
       "      <td>25860.0</td>\n",
       "      <td>39025.0</td>\n",
       "      <td>HomeImp</td>\n",
       "      <td>Other</td>\n",
       "      <td>10.5</td>\n",
       "      <td>0.0</td>\n",
       "      <td>0.0</td>\n",
       "      <td>94.366667</td>\n",
       "      <td>1.0</td>\n",
       "      <td>9.0</td>\n",
       "      <td>NaN</td>\n",
       "    </tr>\n",
       "    <tr>\n",
       "      <th>1</th>\n",
       "      <td>1</td>\n",
       "      <td>1300</td>\n",
       "      <td>70053.0</td>\n",
       "      <td>68400.0</td>\n",
       "      <td>HomeImp</td>\n",
       "      <td>Other</td>\n",
       "      <td>7.0</td>\n",
       "      <td>0.0</td>\n",
       "      <td>2.0</td>\n",
       "      <td>121.833333</td>\n",
       "      <td>0.0</td>\n",
       "      <td>14.0</td>\n",
       "      <td>NaN</td>\n",
       "    </tr>\n",
       "    <tr>\n",
       "      <th>2</th>\n",
       "      <td>1</td>\n",
       "      <td>1500</td>\n",
       "      <td>13500.0</td>\n",
       "      <td>16700.0</td>\n",
       "      <td>HomeImp</td>\n",
       "      <td>Other</td>\n",
       "      <td>4.0</td>\n",
       "      <td>0.0</td>\n",
       "      <td>0.0</td>\n",
       "      <td>149.466667</td>\n",
       "      <td>1.0</td>\n",
       "      <td>10.0</td>\n",
       "      <td>NaN</td>\n",
       "    </tr>\n",
       "    <tr>\n",
       "      <th>3</th>\n",
       "      <td>1</td>\n",
       "      <td>1500</td>\n",
       "      <td>NaN</td>\n",
       "      <td>NaN</td>\n",
       "      <td>NaN</td>\n",
       "      <td>NaN</td>\n",
       "      <td>NaN</td>\n",
       "      <td>NaN</td>\n",
       "      <td>NaN</td>\n",
       "      <td>NaN</td>\n",
       "      <td>NaN</td>\n",
       "      <td>NaN</td>\n",
       "      <td>NaN</td>\n",
       "    </tr>\n",
       "    <tr>\n",
       "      <th>4</th>\n",
       "      <td>0</td>\n",
       "      <td>1700</td>\n",
       "      <td>97800.0</td>\n",
       "      <td>112000.0</td>\n",
       "      <td>HomeImp</td>\n",
       "      <td>Office</td>\n",
       "      <td>3.0</td>\n",
       "      <td>0.0</td>\n",
       "      <td>0.0</td>\n",
       "      <td>93.333333</td>\n",
       "      <td>0.0</td>\n",
       "      <td>14.0</td>\n",
       "      <td>NaN</td>\n",
       "    </tr>\n",
       "  </tbody>\n",
       "</table>\n",
       "</div>"
      ],
      "text/plain": [
       "   BAD  LOAN  MORTDUE     VALUE   REASON     JOB   YOJ  DEROG  DELINQ  \\\n",
       "0    1  1100  25860.0   39025.0  HomeImp   Other  10.5    0.0     0.0   \n",
       "1    1  1300  70053.0   68400.0  HomeImp   Other   7.0    0.0     2.0   \n",
       "2    1  1500  13500.0   16700.0  HomeImp   Other   4.0    0.0     0.0   \n",
       "3    1  1500      NaN       NaN      NaN     NaN   NaN    NaN     NaN   \n",
       "4    0  1700  97800.0  112000.0  HomeImp  Office   3.0    0.0     0.0   \n",
       "\n",
       "        CLAGE  NINQ  CLNO  DEBTINC  \n",
       "0   94.366667   1.0   9.0      NaN  \n",
       "1  121.833333   0.0  14.0      NaN  \n",
       "2  149.466667   1.0  10.0      NaN  \n",
       "3         NaN   NaN   NaN      NaN  \n",
       "4   93.333333   0.0  14.0      NaN  "
      ]
     },
     "execution_count": 4,
     "metadata": {},
     "output_type": "execute_result"
    }
   ],
   "source": [
    "df.head()"
   ]
  },
  {
   "cell_type": "code",
   "execution_count": 5,
   "metadata": {},
   "outputs": [
    {
     "data": {
      "text/html": [
       "<div>\n",
       "<style scoped>\n",
       "    .dataframe tbody tr th:only-of-type {\n",
       "        vertical-align: middle;\n",
       "    }\n",
       "\n",
       "    .dataframe tbody tr th {\n",
       "        vertical-align: top;\n",
       "    }\n",
       "\n",
       "    .dataframe thead th {\n",
       "        text-align: right;\n",
       "    }\n",
       "</style>\n",
       "<table border=\"1\" class=\"dataframe\">\n",
       "  <thead>\n",
       "    <tr style=\"text-align: right;\">\n",
       "      <th></th>\n",
       "      <th>BAD</th>\n",
       "      <th>LOAN</th>\n",
       "      <th>MORTDUE</th>\n",
       "      <th>VALUE</th>\n",
       "      <th>YOJ</th>\n",
       "      <th>DEROG</th>\n",
       "      <th>DELINQ</th>\n",
       "      <th>CLAGE</th>\n",
       "      <th>NINQ</th>\n",
       "      <th>CLNO</th>\n",
       "      <th>DEBTINC</th>\n",
       "    </tr>\n",
       "  </thead>\n",
       "  <tbody>\n",
       "    <tr>\n",
       "      <th>count</th>\n",
       "      <td>5960.000000</td>\n",
       "      <td>5960.000000</td>\n",
       "      <td>5442.000000</td>\n",
       "      <td>5848.000000</td>\n",
       "      <td>5445.000000</td>\n",
       "      <td>5252.000000</td>\n",
       "      <td>5380.000000</td>\n",
       "      <td>5652.000000</td>\n",
       "      <td>5450.000000</td>\n",
       "      <td>5738.000000</td>\n",
       "      <td>4693.000000</td>\n",
       "    </tr>\n",
       "    <tr>\n",
       "      <th>mean</th>\n",
       "      <td>0.199497</td>\n",
       "      <td>18607.969799</td>\n",
       "      <td>73760.817200</td>\n",
       "      <td>101776.048741</td>\n",
       "      <td>8.922268</td>\n",
       "      <td>0.254570</td>\n",
       "      <td>0.449442</td>\n",
       "      <td>179.766275</td>\n",
       "      <td>1.186055</td>\n",
       "      <td>21.296096</td>\n",
       "      <td>33.779915</td>\n",
       "    </tr>\n",
       "    <tr>\n",
       "      <th>std</th>\n",
       "      <td>0.399656</td>\n",
       "      <td>11207.480417</td>\n",
       "      <td>44457.609458</td>\n",
       "      <td>57385.775334</td>\n",
       "      <td>7.573982</td>\n",
       "      <td>0.846047</td>\n",
       "      <td>1.127266</td>\n",
       "      <td>85.810092</td>\n",
       "      <td>1.728675</td>\n",
       "      <td>10.138933</td>\n",
       "      <td>8.601746</td>\n",
       "    </tr>\n",
       "    <tr>\n",
       "      <th>min</th>\n",
       "      <td>0.000000</td>\n",
       "      <td>1100.000000</td>\n",
       "      <td>2063.000000</td>\n",
       "      <td>8000.000000</td>\n",
       "      <td>0.000000</td>\n",
       "      <td>0.000000</td>\n",
       "      <td>0.000000</td>\n",
       "      <td>0.000000</td>\n",
       "      <td>0.000000</td>\n",
       "      <td>0.000000</td>\n",
       "      <td>0.524499</td>\n",
       "    </tr>\n",
       "    <tr>\n",
       "      <th>25%</th>\n",
       "      <td>0.000000</td>\n",
       "      <td>11100.000000</td>\n",
       "      <td>46276.000000</td>\n",
       "      <td>66075.500000</td>\n",
       "      <td>3.000000</td>\n",
       "      <td>0.000000</td>\n",
       "      <td>0.000000</td>\n",
       "      <td>115.116702</td>\n",
       "      <td>0.000000</td>\n",
       "      <td>15.000000</td>\n",
       "      <td>29.140031</td>\n",
       "    </tr>\n",
       "    <tr>\n",
       "      <th>50%</th>\n",
       "      <td>0.000000</td>\n",
       "      <td>16300.000000</td>\n",
       "      <td>65019.000000</td>\n",
       "      <td>89235.500000</td>\n",
       "      <td>7.000000</td>\n",
       "      <td>0.000000</td>\n",
       "      <td>0.000000</td>\n",
       "      <td>173.466667</td>\n",
       "      <td>1.000000</td>\n",
       "      <td>20.000000</td>\n",
       "      <td>34.818262</td>\n",
       "    </tr>\n",
       "    <tr>\n",
       "      <th>75%</th>\n",
       "      <td>0.000000</td>\n",
       "      <td>23300.000000</td>\n",
       "      <td>91488.000000</td>\n",
       "      <td>119824.250000</td>\n",
       "      <td>13.000000</td>\n",
       "      <td>0.000000</td>\n",
       "      <td>0.000000</td>\n",
       "      <td>231.562278</td>\n",
       "      <td>2.000000</td>\n",
       "      <td>26.000000</td>\n",
       "      <td>39.003141</td>\n",
       "    </tr>\n",
       "    <tr>\n",
       "      <th>max</th>\n",
       "      <td>1.000000</td>\n",
       "      <td>89900.000000</td>\n",
       "      <td>399550.000000</td>\n",
       "      <td>855909.000000</td>\n",
       "      <td>41.000000</td>\n",
       "      <td>10.000000</td>\n",
       "      <td>15.000000</td>\n",
       "      <td>1168.233561</td>\n",
       "      <td>17.000000</td>\n",
       "      <td>71.000000</td>\n",
       "      <td>203.312149</td>\n",
       "    </tr>\n",
       "  </tbody>\n",
       "</table>\n",
       "</div>"
      ],
      "text/plain": [
       "               BAD          LOAN        MORTDUE          VALUE          YOJ  \\\n",
       "count  5960.000000   5960.000000    5442.000000    5848.000000  5445.000000   \n",
       "mean      0.199497  18607.969799   73760.817200  101776.048741     8.922268   \n",
       "std       0.399656  11207.480417   44457.609458   57385.775334     7.573982   \n",
       "min       0.000000   1100.000000    2063.000000    8000.000000     0.000000   \n",
       "25%       0.000000  11100.000000   46276.000000   66075.500000     3.000000   \n",
       "50%       0.000000  16300.000000   65019.000000   89235.500000     7.000000   \n",
       "75%       0.000000  23300.000000   91488.000000  119824.250000    13.000000   \n",
       "max       1.000000  89900.000000  399550.000000  855909.000000    41.000000   \n",
       "\n",
       "             DEROG       DELINQ        CLAGE         NINQ         CLNO  \\\n",
       "count  5252.000000  5380.000000  5652.000000  5450.000000  5738.000000   \n",
       "mean      0.254570     0.449442   179.766275     1.186055    21.296096   \n",
       "std       0.846047     1.127266    85.810092     1.728675    10.138933   \n",
       "min       0.000000     0.000000     0.000000     0.000000     0.000000   \n",
       "25%       0.000000     0.000000   115.116702     0.000000    15.000000   \n",
       "50%       0.000000     0.000000   173.466667     1.000000    20.000000   \n",
       "75%       0.000000     0.000000   231.562278     2.000000    26.000000   \n",
       "max      10.000000    15.000000  1168.233561    17.000000    71.000000   \n",
       "\n",
       "           DEBTINC  \n",
       "count  4693.000000  \n",
       "mean     33.779915  \n",
       "std       8.601746  \n",
       "min       0.524499  \n",
       "25%      29.140031  \n",
       "50%      34.818262  \n",
       "75%      39.003141  \n",
       "max     203.312149  "
      ]
     },
     "execution_count": 5,
     "metadata": {},
     "output_type": "execute_result"
    }
   ],
   "source": [
    "df.describe()"
   ]
  },
  {
   "cell_type": "markdown",
   "metadata": {},
   "source": [
    "count of elements in columns\n",
    "\"MORTDUE\", \"VALUE\", \"YOJ\", \"DEROG\", \"DELINQ\", \"CLAGE\", \"NINQ\", \"CLNO\", \"CLNO\", \"DEBTINC\"\n",
    "is less than the total number of objects (5960) &rArr; which indicates that these columns contain missing values."
   ]
  },
  {
   "cell_type": "code",
   "execution_count": 6,
   "metadata": {},
   "outputs": [
    {
     "data": {
      "text/plain": [
       "0    4771\n",
       "1    1189\n",
       "Name: BAD, dtype: int64"
      ]
     },
     "execution_count": 6,
     "metadata": {},
     "output_type": "execute_result"
    }
   ],
   "source": [
    "pd.value_counts(df['BAD']) # count of two values in 'BAD' column"
   ]
  },
  {
   "cell_type": "code",
   "execution_count": 7,
   "metadata": {},
   "outputs": [
    {
     "data": {
      "text/plain": [
       "<matplotlib.axes._subplots.AxesSubplot at 0x11436c400>"
      ]
     },
     "execution_count": 7,
     "metadata": {},
     "output_type": "execute_result"
    },
    {
     "data": {
      "image/png": "[encoded data removed]",
      "text/plain": [
       "<Figure size 432x288 with 1 Axes>"
      ]
     },
     "metadata": {},
     "output_type": "display_data"
    }
   ],
   "source": [
    "pd.value_counts(df['BAD']).plot(kind='bar') # visualization of \"BAD\" column"
   ]
  },
  {
   "cell_type": "markdown",
   "metadata": {},
   "source": [
    "the dataset is not unbalanced"
   ]
  },
  {
   "cell_type": "code",
   "execution_count": 8,
   "metadata": {},
   "outputs": [
    {
     "data": {
      "text/html": [
       "<div>\n",
       "<style scoped>\n",
       "    .dataframe tbody tr th:only-of-type {\n",
       "        vertical-align: middle;\n",
       "    }\n",
       "\n",
       "    .dataframe tbody tr th {\n",
       "        vertical-align: top;\n",
       "    }\n",
       "\n",
       "    .dataframe thead th {\n",
       "        text-align: right;\n",
       "    }\n",
       "</style>\n",
       "<table border=\"1\" class=\"dataframe\">\n",
       "  <thead>\n",
       "    <tr style=\"text-align: right;\">\n",
       "      <th></th>\n",
       "      <th>BAD</th>\n",
       "      <th>LOAN</th>\n",
       "      <th>MORTDUE</th>\n",
       "      <th>VALUE</th>\n",
       "      <th>YOJ</th>\n",
       "      <th>DEROG</th>\n",
       "      <th>DELINQ</th>\n",
       "      <th>CLAGE</th>\n",
       "      <th>NINQ</th>\n",
       "      <th>CLNO</th>\n",
       "      <th>DEBTINC</th>\n",
       "    </tr>\n",
       "  </thead>\n",
       "  <tbody>\n",
       "    <tr>\n",
       "      <th>BAD</th>\n",
       "      <td>1.000000</td>\n",
       "      <td>-0.075099</td>\n",
       "      <td>-0.048219</td>\n",
       "      <td>-0.029954</td>\n",
       "      <td>-0.060238</td>\n",
       "      <td>0.276081</td>\n",
       "      <td>0.354107</td>\n",
       "      <td>-0.170499</td>\n",
       "      <td>0.174980</td>\n",
       "      <td>-0.004157</td>\n",
       "      <td>0.199835</td>\n",
       "    </tr>\n",
       "    <tr>\n",
       "      <th>LOAN</th>\n",
       "      <td>-0.075099</td>\n",
       "      <td>1.000000</td>\n",
       "      <td>0.228595</td>\n",
       "      <td>0.335393</td>\n",
       "      <td>0.105728</td>\n",
       "      <td>-0.001302</td>\n",
       "      <td>-0.035144</td>\n",
       "      <td>0.088540</td>\n",
       "      <td>0.044487</td>\n",
       "      <td>0.072631</td>\n",
       "      <td>0.084735</td>\n",
       "    </tr>\n",
       "    <tr>\n",
       "      <th>MORTDUE</th>\n",
       "      <td>-0.048219</td>\n",
       "      <td>0.228595</td>\n",
       "      <td>1.000000</td>\n",
       "      <td>0.875666</td>\n",
       "      <td>-0.088480</td>\n",
       "      <td>-0.049516</td>\n",
       "      <td>-0.001044</td>\n",
       "      <td>0.140047</td>\n",
       "      <td>0.031392</td>\n",
       "      <td>0.323631</td>\n",
       "      <td>0.154939</td>\n",
       "    </tr>\n",
       "    <tr>\n",
       "      <th>VALUE</th>\n",
       "      <td>-0.029954</td>\n",
       "      <td>0.335393</td>\n",
       "      <td>0.875666</td>\n",
       "      <td>1.000000</td>\n",
       "      <td>0.007759</td>\n",
       "      <td>-0.048689</td>\n",
       "      <td>-0.014103</td>\n",
       "      <td>0.171238</td>\n",
       "      <td>-0.004398</td>\n",
       "      <td>0.269149</td>\n",
       "      <td>0.132174</td>\n",
       "    </tr>\n",
       "    <tr>\n",
       "      <th>YOJ</th>\n",
       "      <td>-0.060238</td>\n",
       "      <td>0.105728</td>\n",
       "      <td>-0.088480</td>\n",
       "      <td>0.007759</td>\n",
       "      <td>1.000000</td>\n",
       "      <td>-0.065879</td>\n",
       "      <td>0.038153</td>\n",
       "      <td>0.201718</td>\n",
       "      <td>-0.071627</td>\n",
       "      <td>0.024838</td>\n",
       "      <td>-0.055891</td>\n",
       "    </tr>\n",
       "    <tr>\n",
       "      <th>DEROG</th>\n",
       "      <td>0.276081</td>\n",
       "      <td>-0.001302</td>\n",
       "      <td>-0.049516</td>\n",
       "      <td>-0.048689</td>\n",
       "      <td>-0.065879</td>\n",
       "      <td>1.000000</td>\n",
       "      <td>0.211832</td>\n",
       "      <td>-0.083047</td>\n",
       "      <td>0.173934</td>\n",
       "      <td>0.061884</td>\n",
       "      <td>0.017065</td>\n",
       "    </tr>\n",
       "    <tr>\n",
       "      <th>DELINQ</th>\n",
       "      <td>0.354107</td>\n",
       "      <td>-0.035144</td>\n",
       "      <td>-0.001044</td>\n",
       "      <td>-0.014103</td>\n",
       "      <td>0.038153</td>\n",
       "      <td>0.211832</td>\n",
       "      <td>1.000000</td>\n",
       "      <td>0.022488</td>\n",
       "      <td>0.067812</td>\n",
       "      <td>0.164639</td>\n",
       "      <td>0.052364</td>\n",
       "    </tr>\n",
       "    <tr>\n",
       "      <th>CLAGE</th>\n",
       "      <td>-0.170499</td>\n",
       "      <td>0.088540</td>\n",
       "      <td>0.140047</td>\n",
       "      <td>0.171238</td>\n",
       "      <td>0.201718</td>\n",
       "      <td>-0.083047</td>\n",
       "      <td>0.022488</td>\n",
       "      <td>1.000000</td>\n",
       "      <td>-0.116935</td>\n",
       "      <td>0.237987</td>\n",
       "      <td>-0.046477</td>\n",
       "    </tr>\n",
       "    <tr>\n",
       "      <th>NINQ</th>\n",
       "      <td>0.174980</td>\n",
       "      <td>0.044487</td>\n",
       "      <td>0.031392</td>\n",
       "      <td>-0.004398</td>\n",
       "      <td>-0.071627</td>\n",
       "      <td>0.173934</td>\n",
       "      <td>0.067812</td>\n",
       "      <td>-0.116935</td>\n",
       "      <td>1.000000</td>\n",
       "      <td>0.088389</td>\n",
       "      <td>0.141344</td>\n",
       "    </tr>\n",
       "    <tr>\n",
       "      <th>CLNO</th>\n",
       "      <td>-0.004157</td>\n",
       "      <td>0.072631</td>\n",
       "      <td>0.323631</td>\n",
       "      <td>0.269149</td>\n",
       "      <td>0.024838</td>\n",
       "      <td>0.061884</td>\n",
       "      <td>0.164639</td>\n",
       "      <td>0.237987</td>\n",
       "      <td>0.088389</td>\n",
       "      <td>1.000000</td>\n",
       "      <td>0.185539</td>\n",
       "    </tr>\n",
       "    <tr>\n",
       "      <th>DEBTINC</th>\n",
       "      <td>0.199835</td>\n",
       "      <td>0.084735</td>\n",
       "      <td>0.154939</td>\n",
       "      <td>0.132174</td>\n",
       "      <td>-0.055891</td>\n",
       "      <td>0.017065</td>\n",
       "      <td>0.052364</td>\n",
       "      <td>-0.046477</td>\n",
       "      <td>0.141344</td>\n",
       "      <td>0.185539</td>\n",
       "      <td>1.000000</td>\n",
       "    </tr>\n",
       "  </tbody>\n",
       "</table>\n",
       "</div>"
      ],
      "text/plain": [
       "              BAD      LOAN   MORTDUE     VALUE       YOJ     DEROG    DELINQ  \\\n",
       "BAD      1.000000 -0.075099 -0.048219 -0.029954 -0.060238  0.276081  0.354107   \n",
       "LOAN    -0.075099  1.000000  0.228595  0.335393  0.105728 -0.001302 -0.035144   \n",
       "MORTDUE -0.048219  0.228595  1.000000  0.875666 -0.088480 -0.049516 -0.001044   \n",
       "VALUE   -0.029954  0.335393  0.875666  1.000000  0.007759 -0.048689 -0.014103   \n",
       "YOJ     -0.060238  0.105728 -0.088480  0.007759  1.000000 -0.065879  0.038153   \n",
       "DEROG    0.276081 -0.001302 -0.049516 -0.048689 -0.065879  1.000000  0.211832   \n",
       "DELINQ   0.354107 -0.035144 -0.001044 -0.014103  0.038153  0.211832  1.000000   \n",
       "CLAGE   -0.170499  0.088540  0.140047  0.171238  0.201718 -0.083047  0.022488   \n",
       "NINQ     0.174980  0.044487  0.031392 -0.004398 -0.071627  0.173934  0.067812   \n",
       "CLNO    -0.004157  0.072631  0.323631  0.269149  0.024838  0.061884  0.164639   \n",
       "DEBTINC  0.199835  0.084735  0.154939  0.132174 -0.055891  0.017065  0.052364   \n",
       "\n",
       "            CLAGE      NINQ      CLNO   DEBTINC  \n",
       "BAD     -0.170499  0.174980 -0.004157  0.199835  \n",
       "LOAN     0.088540  0.044487  0.072631  0.084735  \n",
       "MORTDUE  0.140047  0.031392  0.323631  0.154939  \n",
       "VALUE    0.171238 -0.004398  0.269149  0.132174  \n",
       "YOJ      0.201718 -0.071627  0.024838 -0.055891  \n",
       "DEROG   -0.083047  0.173934  0.061884  0.017065  \n",
       "DELINQ   0.022488  0.067812  0.164639  0.052364  \n",
       "CLAGE    1.000000 -0.116935  0.237987 -0.046477  \n",
       "NINQ    -0.116935  1.000000  0.088389  0.141344  \n",
       "CLNO     0.237987  0.088389  1.000000  0.185539  \n",
       "DEBTINC -0.046477  0.141344  0.185539  1.000000  "
      ]
     },
     "execution_count": 8,
     "metadata": {},
     "output_type": "execute_result"
    }
   ],
   "source": [
    "df.corr() # compute pairwise correlation of columns, excluding NA/null values"
   ]
  },
  {
   "cell_type": "code",
   "execution_count": 9,
   "metadata": {},
   "outputs": [
    {
     "data": {
      "image/png": "[encoded data removed]",
      "text/plain": [
       "<Figure size 432x288 with 1 Axes>"
      ]
     },
     "metadata": {},
     "output_type": "display_data"
    }
   ],
   "source": [
    "# there is a large value of the correlation coefficient between columns 'VALUE' and 'MORTDUE'\n",
    "plt.scatter(df['VALUE'], df['MORTDUE'], c = ['b', 'r'], alpha = 1)\n",
    "plt.show()"
   ]
  },
  {
   "cell_type": "code",
   "execution_count": 10,
   "metadata": {},
   "outputs": [],
   "source": [
    "# delete 'MORTDUE' feature\n",
    "df.drop('MORTDUE', axis = 1, inplace = True)"
   ]
  },
  {
   "cell_type": "code",
   "execution_count": 11,
   "metadata": {},
   "outputs": [
    {
     "name": "stdout",
     "output_type": "stream",
     "text": [
      "Index(['BAD', 'LOAN', 'VALUE', 'REASON', 'JOB', 'YOJ', 'DEROG', 'DELINQ',\n",
      "       'CLAGE', 'NINQ', 'CLNO', 'DEBTINC'],\n",
      "      dtype='object') 12\n"
     ]
    }
   ],
   "source": [
    "print(df.columns, len(df.columns))"
   ]
  },
  {
   "cell_type": "markdown",
   "metadata": {},
   "source": [
    "Let us single out numeric and categorical features:"
   ]
  },
  {
   "cell_type": "code",
   "execution_count": 12,
   "metadata": {},
   "outputs": [
    {
     "name": "stdout",
     "output_type": "stream",
     "text": [
      "['REASON', 'JOB']\n",
      "['BAD', 'LOAN', 'VALUE', 'YOJ', 'DEROG', 'DELINQ', 'CLAGE', 'NINQ', 'CLNO', 'DEBTINC']\n"
     ]
    }
   ],
   "source": [
    "numeric_columns = [i for i in df.columns if df[i].dtype.name != 'object']\n",
    "categorical_columns = [i for i in df.columns if df[i].dtype.name == 'object']\n",
    "\n",
    "print(categorical_columns)\n",
    "print(numeric_columns)"
   ]
  },
  {
   "cell_type": "code",
   "execution_count": 13,
   "metadata": {},
   "outputs": [
    {
     "name": "stdout",
     "output_type": "stream",
     "text": [
      "['HomeImp' nan 'DebtCon']\n",
      "['Other' nan 'Office' 'Sales' 'Mgr' 'ProfExe' 'Self']\n"
     ]
    }
   ],
   "source": [
    "# all the different elements of categorical_columns\n",
    "for i in categorical_columns:\n",
    "    print(df[i].unique())"
   ]
  },
  {
   "cell_type": "markdown",
   "metadata": {},
   "source": [
    "# Preparing the data"
   ]
  },
  {
   "cell_type": "markdown",
   "metadata": {},
   "source": [
    "missing values"
   ]
  },
  {
   "cell_type": "code",
   "execution_count": 14,
   "metadata": {},
   "outputs": [
    {
     "data": {
      "text/plain": [
       "BAD        5960\n",
       "LOAN       5960\n",
       "VALUE      5848\n",
       "REASON     5708\n",
       "JOB        5681\n",
       "YOJ        5445\n",
       "DEROG      5252\n",
       "DELINQ     5380\n",
       "CLAGE      5652\n",
       "NINQ       5450\n",
       "CLNO       5738\n",
       "DEBTINC    4693\n",
       "dtype: int64"
      ]
     },
     "execution_count": 14,
     "metadata": {},
     "output_type": "execute_result"
    }
   ],
   "source": [
    "df.count(axis=0) # count of elements in each columns"
   ]
  },
  {
   "cell_type": "code",
   "execution_count": 15,
   "metadata": {},
   "outputs": [
    {
     "data": {
      "text/plain": [
       "BAD        5960\n",
       "LOAN       5960\n",
       "VALUE      5960\n",
       "REASON     5708\n",
       "JOB        5681\n",
       "YOJ        5960\n",
       "DEROG      5960\n",
       "DELINQ     5960\n",
       "CLAGE      5960\n",
       "NINQ       5960\n",
       "CLNO       5960\n",
       "DEBTINC    5960\n",
       "dtype: int64"
      ]
     },
     "execution_count": 15,
     "metadata": {},
     "output_type": "execute_result"
    }
   ],
   "source": [
    "# fill numeric columns from df (median knowledge for each columns instead of nan)\n",
    "df.fillna(df.median(axis=0), axis=0, inplace=True)\n",
    "df.count(axis=0) # check the results"
   ]
  },
  {
   "cell_type": "code",
   "execution_count": 16,
   "metadata": {},
   "outputs": [
    {
     "data": {
      "text/html": [
       "<div>\n",
       "<style scoped>\n",
       "    .dataframe tbody tr th:only-of-type {\n",
       "        vertical-align: middle;\n",
       "    }\n",
       "\n",
       "    .dataframe tbody tr th {\n",
       "        vertical-align: top;\n",
       "    }\n",
       "\n",
       "    .dataframe thead th {\n",
       "        text-align: right;\n",
       "    }\n",
       "</style>\n",
       "<table border=\"1\" class=\"dataframe\">\n",
       "  <thead>\n",
       "    <tr style=\"text-align: right;\">\n",
       "      <th></th>\n",
       "      <th>REASON</th>\n",
       "      <th>JOB</th>\n",
       "    </tr>\n",
       "  </thead>\n",
       "  <tbody>\n",
       "    <tr>\n",
       "      <th>count</th>\n",
       "      <td>5960</td>\n",
       "      <td>5960</td>\n",
       "    </tr>\n",
       "    <tr>\n",
       "      <th>unique</th>\n",
       "      <td>2</td>\n",
       "      <td>6</td>\n",
       "    </tr>\n",
       "    <tr>\n",
       "      <th>top</th>\n",
       "      <td>DebtCon</td>\n",
       "      <td>Other</td>\n",
       "    </tr>\n",
       "    <tr>\n",
       "      <th>freq</th>\n",
       "      <td>4180</td>\n",
       "      <td>2667</td>\n",
       "    </tr>\n",
       "  </tbody>\n",
       "</table>\n",
       "</div>"
      ],
      "text/plain": [
       "         REASON    JOB\n",
       "count      5960   5960\n",
       "unique        2      6\n",
       "top     DebtCon  Other\n",
       "freq       4180   2667"
      ]
     },
     "execution_count": 16,
     "metadata": {},
     "output_type": "execute_result"
    }
   ],
   "source": [
    "# fill categorical columns from df (top element for each columns instead of nan)\n",
    "df_describe = df.describe(include=[object])\n",
    "\n",
    "for i in categorical_columns:\n",
    "    df[i].fillna(df_describe[i]['top'], inplace=True)\n",
    "    \n",
    "df.describe(include=[object]) # check the results"
   ]
  },
  {
   "cell_type": "code",
   "execution_count": 17,
   "metadata": {},
   "outputs": [
    {
     "data": {
      "text/plain": [
       "BAD        5960\n",
       "LOAN       5960\n",
       "VALUE      5960\n",
       "REASON     5960\n",
       "JOB        5960\n",
       "YOJ        5960\n",
       "DEROG      5960\n",
       "DELINQ     5960\n",
       "CLAGE      5960\n",
       "NINQ       5960\n",
       "CLNO       5960\n",
       "DEBTINC    5960\n",
       "dtype: int64"
      ]
     },
     "execution_count": 17,
     "metadata": {},
     "output_type": "execute_result"
    }
   ],
   "source": [
    "df.count(axis=0) # check the results"
   ]
  },
  {
   "cell_type": "markdown",
   "metadata": {},
   "source": [
    "# Vectorization and Standardization"
   ]
  },
  {
   "cell_type": "markdown",
   "metadata": {},
   "source": [
    "Before submitting data to the input of algorithms of machine learning, we transform categorical columns into numeric columns."
   ]
  },
  {
   "cell_type": "code",
   "execution_count": 18,
   "metadata": {},
   "outputs": [
    {
     "name": "stdout",
     "output_type": "stream",
     "text": [
      "['HomeImp' 'DebtCon']\n",
      "['Other' 'Office' 'Sales' 'Mgr' 'ProfExe' 'Self']\n"
     ]
    }
   ],
   "source": [
    "# they is only one binary column\n",
    "print(df['REASON'].unique())\n",
    "\n",
    "# they is only one nonbinary column\n",
    "print(df['JOB'].unique())"
   ]
  },
  {
   "cell_type": "code",
   "execution_count": 19,
   "metadata": {},
   "outputs": [
    {
     "data": {
      "text/plain": [
       "array([1, 0])"
      ]
     },
     "execution_count": 19,
     "metadata": {},
     "output_type": "execute_result"
    }
   ],
   "source": [
    "# the values of the binary features ('REASON') are replaced by 0 and 1\n",
    "df.at[df['REASON'] == 'HomeImp', 'REASON'] = 1\n",
    "df.at[df['REASON'] == 'DebtCon', 'REASON'] = 0\n",
    "df['REASON'].unique()"
   ]
  },
  {
   "cell_type": "code",
   "execution_count": 20,
   "metadata": {},
   "outputs": [
    {
     "data": {
      "text/html": [
       "<div>\n",
       "<style scoped>\n",
       "    .dataframe tbody tr th:only-of-type {\n",
       "        vertical-align: middle;\n",
       "    }\n",
       "\n",
       "    .dataframe tbody tr th {\n",
       "        vertical-align: top;\n",
       "    }\n",
       "\n",
       "    .dataframe thead th {\n",
       "        text-align: right;\n",
       "    }\n",
       "</style>\n",
       "<table border=\"1\" class=\"dataframe\">\n",
       "  <thead>\n",
       "    <tr style=\"text-align: right;\">\n",
       "      <th></th>\n",
       "      <th>Mgr</th>\n",
       "      <th>Office</th>\n",
       "      <th>Other</th>\n",
       "      <th>ProfExe</th>\n",
       "      <th>Sales</th>\n",
       "      <th>Self</th>\n",
       "    </tr>\n",
       "  </thead>\n",
       "  <tbody>\n",
       "    <tr>\n",
       "      <th>0</th>\n",
       "      <td>0</td>\n",
       "      <td>0</td>\n",
       "      <td>1</td>\n",
       "      <td>0</td>\n",
       "      <td>0</td>\n",
       "      <td>0</td>\n",
       "    </tr>\n",
       "    <tr>\n",
       "      <th>1</th>\n",
       "      <td>0</td>\n",
       "      <td>0</td>\n",
       "      <td>1</td>\n",
       "      <td>0</td>\n",
       "      <td>0</td>\n",
       "      <td>0</td>\n",
       "    </tr>\n",
       "    <tr>\n",
       "      <th>2</th>\n",
       "      <td>0</td>\n",
       "      <td>0</td>\n",
       "      <td>1</td>\n",
       "      <td>0</td>\n",
       "      <td>0</td>\n",
       "      <td>0</td>\n",
       "    </tr>\n",
       "    <tr>\n",
       "      <th>3</th>\n",
       "      <td>0</td>\n",
       "      <td>0</td>\n",
       "      <td>1</td>\n",
       "      <td>0</td>\n",
       "      <td>0</td>\n",
       "      <td>0</td>\n",
       "    </tr>\n",
       "    <tr>\n",
       "      <th>4</th>\n",
       "      <td>0</td>\n",
       "      <td>1</td>\n",
       "      <td>0</td>\n",
       "      <td>0</td>\n",
       "      <td>0</td>\n",
       "      <td>0</td>\n",
       "    </tr>\n",
       "  </tbody>\n",
       "</table>\n",
       "</div>"
      ],
      "text/plain": [
       "   Mgr  Office  Other  ProfExe  Sales  Self\n",
       "0    0       0      1        0      0     0\n",
       "1    0       0      1        0      0     0\n",
       "2    0       0      1        0      0     0\n",
       "3    0       0      1        0      0     0\n",
       "4    0       1      0        0      0     0"
      ]
     },
     "execution_count": 20,
     "metadata": {},
     "output_type": "execute_result"
    }
   ],
   "source": [
    "# Vectorization\n",
    "# The attribute 'j', taking 's' values, is replaced by 's' signs taking values 0 or 1, \n",
    "# depending on what the value of the original characteristic 'j' is equal.\n",
    "df_nonbinary = pd.get_dummies(df['JOB']) # convert categorical variable into dummy/indicator variables\n",
    "df_nonbinary.head()"
   ]
  },
  {
   "cell_type": "markdown",
   "metadata": {},
   "source": [
    "<b> Standardization </b> transforms data to have a mean of 0 and a standard deviation of 1 (this standardization is called a z-score). Many machine learning algorithms are sensitive to data scaling (for example, KNeighborsClassifier, SVM and others)."
   ]
  },
  {
   "cell_type": "code",
   "execution_count": 21,
   "metadata": {},
   "outputs": [
    {
     "data": {
      "text/html": [
       "<div>\n",
       "<style scoped>\n",
       "    .dataframe tbody tr th:only-of-type {\n",
       "        vertical-align: middle;\n",
       "    }\n",
       "\n",
       "    .dataframe tbody tr th {\n",
       "        vertical-align: top;\n",
       "    }\n",
       "\n",
       "    .dataframe thead th {\n",
       "        text-align: right;\n",
       "    }\n",
       "</style>\n",
       "<table border=\"1\" class=\"dataframe\">\n",
       "  <thead>\n",
       "    <tr style=\"text-align: right;\">\n",
       "      <th></th>\n",
       "      <th>LOAN</th>\n",
       "      <th>VALUE</th>\n",
       "      <th>YOJ</th>\n",
       "      <th>DEROG</th>\n",
       "      <th>DELINQ</th>\n",
       "      <th>CLAGE</th>\n",
       "      <th>NINQ</th>\n",
       "      <th>CLNO</th>\n",
       "      <th>DEBTINC</th>\n",
       "    </tr>\n",
       "  </thead>\n",
       "  <tbody>\n",
       "    <tr>\n",
       "      <th>count</th>\n",
       "      <td>5.960000e+03</td>\n",
       "      <td>5.960000e+03</td>\n",
       "      <td>5.960000e+03</td>\n",
       "      <td>5.960000e+03</td>\n",
       "      <td>5.960000e+03</td>\n",
       "      <td>5.960000e+03</td>\n",
       "      <td>5.960000e+03</td>\n",
       "      <td>5.960000e+03</td>\n",
       "      <td>5.960000e+03</td>\n",
       "    </tr>\n",
       "    <tr>\n",
       "      <th>mean</th>\n",
       "      <td>-1.525998e-16</td>\n",
       "      <td>-1.907497e-17</td>\n",
       "      <td>-8.536050e-16</td>\n",
       "      <td>6.288780e-17</td>\n",
       "      <td>2.145934e-17</td>\n",
       "      <td>-1.143545e-14</td>\n",
       "      <td>3.576557e-17</td>\n",
       "      <td>5.722492e-17</td>\n",
       "      <td>4.018620e-14</td>\n",
       "    </tr>\n",
       "    <tr>\n",
       "      <th>std</th>\n",
       "      <td>1.000000e+00</td>\n",
       "      <td>1.000000e+00</td>\n",
       "      <td>1.000000e+00</td>\n",
       "      <td>1.000000e+00</td>\n",
       "      <td>1.000000e+00</td>\n",
       "      <td>1.000000e+00</td>\n",
       "      <td>1.000000e+00</td>\n",
       "      <td>1.000000e+00</td>\n",
       "      <td>1.000000e+00</td>\n",
       "    </tr>\n",
       "    <tr>\n",
       "      <th>min</th>\n",
       "      <td>-1.562168e+00</td>\n",
       "      <td>-1.644827e+00</td>\n",
       "      <td>-1.206179e+00</td>\n",
       "      <td>-2.809526e-01</td>\n",
       "      <td>-3.759114e-01</td>\n",
       "      <td>-2.147070e+00</td>\n",
       "      <td>-7.075147e-01</td>\n",
       "      <td>-2.135179e+00</td>\n",
       "      <td>-4.379100e+00</td>\n",
       "    </tr>\n",
       "    <tr>\n",
       "      <th>25%</th>\n",
       "      <td>-6.699070e-01</td>\n",
       "      <td>-6.163396e-01</td>\n",
       "      <td>-7.929233e-01</td>\n",
       "      <td>-2.809526e-01</td>\n",
       "      <td>-3.759114e-01</td>\n",
       "      <td>-7.426805e-01</td>\n",
       "      <td>-7.075147e-01</td>\n",
       "      <td>-6.278390e-01</td>\n",
       "      <td>-4.235044e-01</td>\n",
       "    </tr>\n",
       "    <tr>\n",
       "      <th>50%</th>\n",
       "      <td>-2.059312e-01</td>\n",
       "      <td>-2.163708e-01</td>\n",
       "      <td>-2.419154e-01</td>\n",
       "      <td>-2.809526e-01</td>\n",
       "      <td>-3.759114e-01</td>\n",
       "      <td>-7.148166e-02</td>\n",
       "      <td>-1.028706e-01</td>\n",
       "      <td>-1.253924e-01</td>\n",
       "      <td>1.069537e-01</td>\n",
       "    </tr>\n",
       "    <tr>\n",
       "      <th>75%</th>\n",
       "      <td>4.186517e-01</td>\n",
       "      <td>3.070958e-01</td>\n",
       "      <td>4.468445e-01</td>\n",
       "      <td>-2.809526e-01</td>\n",
       "      <td>-3.759114e-01</td>\n",
       "      <td>5.707748e-01</td>\n",
       "      <td>5.017734e-01</td>\n",
       "      <td>4.775434e-01</td>\n",
       "      <td>5.166101e-01</td>\n",
       "    </tr>\n",
       "    <tr>\n",
       "      <th>max</th>\n",
       "      <td>6.361111e+00</td>\n",
       "      <td>1.326492e+01</td>\n",
       "      <td>4.441652e+00</td>\n",
       "      <td>1.224319e+01</td>\n",
       "      <td>1.352255e+01</td>\n",
       "      <td>1.183125e+01</td>\n",
       "      <td>9.571434e+00</td>\n",
       "      <td>4.999562e+00</td>\n",
       "      <td>2.214806e+01</td>\n",
       "    </tr>\n",
       "  </tbody>\n",
       "</table>\n",
       "</div>"
      ],
      "text/plain": [
       "               LOAN         VALUE           YOJ         DEROG        DELINQ  \\\n",
       "count  5.960000e+03  5.960000e+03  5.960000e+03  5.960000e+03  5.960000e+03   \n",
       "mean  -1.525998e-16 -1.907497e-17 -8.536050e-16  6.288780e-17  2.145934e-17   \n",
       "std    1.000000e+00  1.000000e+00  1.000000e+00  1.000000e+00  1.000000e+00   \n",
       "min   -1.562168e+00 -1.644827e+00 -1.206179e+00 -2.809526e-01 -3.759114e-01   \n",
       "25%   -6.699070e-01 -6.163396e-01 -7.929233e-01 -2.809526e-01 -3.759114e-01   \n",
       "50%   -2.059312e-01 -2.163708e-01 -2.419154e-01 -2.809526e-01 -3.759114e-01   \n",
       "75%    4.186517e-01  3.070958e-01  4.468445e-01 -2.809526e-01 -3.759114e-01   \n",
       "max    6.361111e+00  1.326492e+01  4.441652e+00  1.224319e+01  1.352255e+01   \n",
       "\n",
       "              CLAGE          NINQ          CLNO       DEBTINC  \n",
       "count  5.960000e+03  5.960000e+03  5.960000e+03  5.960000e+03  \n",
       "mean  -1.143545e-14  3.576557e-17  5.722492e-17  4.018620e-14  \n",
       "std    1.000000e+00  1.000000e+00  1.000000e+00  1.000000e+00  \n",
       "min   -2.147070e+00 -7.075147e-01 -2.135179e+00 -4.379100e+00  \n",
       "25%   -7.426805e-01 -7.075147e-01 -6.278390e-01 -4.235044e-01  \n",
       "50%   -7.148166e-02 -1.028706e-01 -1.253924e-01  1.069537e-01  \n",
       "75%    5.707748e-01  5.017734e-01  4.775434e-01  5.166101e-01  \n",
       "max    1.183125e+01  9.571434e+00  4.999562e+00  2.214806e+01  "
      ]
     },
     "execution_count": 21,
     "metadata": {},
     "output_type": "execute_result"
    }
   ],
   "source": [
    "# process of standardization\n",
    "df_numeric = df[numeric_columns].drop('BAD', axis=1)\n",
    "df_numeric = (df_numeric - df_numeric.mean()) / df_numeric.std()\n",
    "df_numeric.describe() # check the results"
   ]
  },
  {
   "cell_type": "markdown",
   "metadata": {},
   "source": [
    "Create new DataFrame (join the data processed by us)"
   ]
  },
  {
   "cell_type": "code",
   "execution_count": 22,
   "metadata": {},
   "outputs": [
    {
     "name": "stdout",
     "output_type": "stream",
     "text": [
      "True\n",
      "17\n",
      "Index(['LOAN', 'VALUE', 'YOJ', 'DEROG', 'DELINQ', 'CLAGE', 'NINQ', 'CLNO',\n",
      "       'DEBTINC', 'BAD', 'REASON', 'Mgr', 'Office', 'Other', 'ProfExe',\n",
      "       'Sales', 'Self'],\n",
      "      dtype='object')\n"
     ]
    }
   ],
   "source": [
    "data = pd.concat((df_numeric, df['BAD'], df['REASON'], df_nonbinary), axis=1) # concatenate pandas objects\n",
    "data = pd.DataFrame(data, dtype=float) # create new DataFrame\n",
    "print(data.shape[0] == df.shape[0]) # check the results of the count of the objects\n",
    "print(len(data.columns)) # check count of the columns\n",
    "print(data.columns)"
   ]
  },
  {
   "cell_type": "markdown",
   "metadata": {},
   "source": [
    "# Machine Learning Models"
   ]
  },
  {
   "cell_type": "markdown",
   "metadata": {},
   "source": [
    "splitting data into training and test samples (cross validation)"
   ]
  },
  {
   "cell_type": "code",
   "execution_count": 23,
   "metadata": {},
   "outputs": [
    {
     "name": "stdout",
     "output_type": "stream",
     "text": [
      "4172 1788\n"
     ]
    }
   ],
   "source": [
    "y = data['BAD']\n",
    "X = data.drop('BAD', axis=1)  # delete column 'BAD'\n",
    "\n",
    "# train = 70%, test = 30%\n",
    "X_train, X_test, y_train, y_test = train_test_split(X, y, test_size = 0.3, random_state = 12)\n",
    "print(y_train.shape[0], y_test.shape[0]) # count of objects for training and test"
   ]
  },
  {
   "cell_type": "code",
   "execution_count": 24,
   "metadata": {},
   "outputs": [
    {
     "name": "stdout",
     "output_type": "stream",
     "text": [
      "KNeighborsClassifier(algorithm='auto', leaf_size=30, metric='minkowski',\n",
      "           metric_params=None, n_jobs=1, n_neighbors=3, p=2,\n",
      "           weights='uniform')\n",
      "_ _ _\n",
      "accuracy = 0.9093959731543624\n",
      "_ _ _\n",
      "precision = 0.9290852210449397\n",
      "_ _ _\n",
      "recall = 0.788833552373706\n",
      "_ _ _\n",
      "f1 = 0.8355852736499143\n",
      "\n",
      "\n",
      "KNeighborsClassifier(algorithm='auto', leaf_size=30, metric='minkowski',\n",
      "           metric_params=None, n_jobs=1, n_neighbors=5, p=2,\n",
      "           weights='uniform')\n",
      "_ _ _\n",
      "accuracy = 0.8887024608501118\n",
      "_ _ _\n",
      "precision = 0.9060360229851756\n",
      "_ _ _\n",
      "recall = 0.7423451153996911\n",
      "_ _ _\n",
      "f1 = 0.7896364877927653\n",
      "\n",
      "\n",
      "KNeighborsClassifier(algorithm='auto', leaf_size=30, metric='minkowski',\n",
      "           metric_params=None, n_jobs=1, n_neighbors=7, p=2,\n",
      "           weights='uniform')\n",
      "_ _ _\n",
      "accuracy = 0.8763982102908278\n",
      "_ _ _\n",
      "precision = 0.9046938889822439\n",
      "_ _ _\n",
      "recall = 0.7082324594775311\n",
      "_ _ _\n",
      "f1 = 0.7556130732051247\n",
      "\n",
      "\n",
      "KNeighborsClassifier(algorithm='auto', leaf_size=30, metric='minkowski',\n",
      "           metric_params=None, n_jobs=1, n_neighbors=9, p=2,\n",
      "           weights='uniform')\n",
      "_ _ _\n",
      "accuracy = 0.8691275167785235\n",
      "_ _ _\n",
      "precision = 0.9128317902555063\n",
      "_ _ _\n",
      "recall = 0.68540038274423\n",
      "_ _ _\n",
      "f1 = 0.7315494461497398\n",
      "\n",
      "\n",
      "SVC(C=1.0, cache_size=200, class_weight=None, coef0=0.0,\n",
      "  decision_function_shape='ovr', degree=3, gamma='auto', kernel='rbf',\n",
      "  max_iter=-1, probability=False, random_state=None, shrinking=True,\n",
      "  tol=0.001, verbose=False)\n",
      "_ _ _\n",
      "accuracy = 0.8624161073825504\n",
      "_ _ _\n",
      "precision = 0.8926837725381415\n",
      "_ _ _\n",
      "recall = 0.6740794540130502\n",
      "_ _ _\n",
      "f1 = 0.7168518494676263\n",
      "\n",
      "\n",
      "DecisionTreeClassifier(class_weight=None, criterion='gini', max_depth=None,\n",
      "            max_features=None, max_leaf_nodes=None,\n",
      "            min_impurity_decrease=0.0, min_impurity_split=None,\n",
      "            min_samples_leaf=1, min_samples_split=2,\n",
      "            min_weight_fraction_leaf=0.0, presort=False, random_state=None,\n",
      "            splitter='best')\n",
      "_ _ _\n",
      "accuracy = 0.8713646532438478\n",
      "_ _ _\n",
      "precision = 0.8046455938697318\n",
      "_ _ _\n",
      "recall = 0.7933296442323211\n",
      "_ _ _\n",
      "f1 = 0.7987538831046046\n",
      "\n",
      "\n",
      "LogisticRegression(C=1.0, class_weight=None, dual=False, fit_intercept=True,\n",
      "          intercept_scaling=1, max_iter=100, multi_class='ovr', n_jobs=1,\n",
      "          penalty='l2', random_state=None, solver='liblinear', tol=0.0001,\n",
      "          verbose=0, warm_start=False)\n",
      "_ _ _\n",
      "accuracy = 0.8344519015659956\n",
      "_ _ _\n",
      "precision = 0.7749861128915096\n",
      "_ _ _\n",
      "recall = 0.6483825597749648\n",
      "_ _ _\n",
      "f1 = 0.6771775728297467\n",
      "\n",
      "\n",
      "RandomForestClassifier(bootstrap=True, class_weight=None, criterion='gini',\n",
      "            max_depth=None, max_features='auto', max_leaf_nodes=None,\n",
      "            min_impurity_decrease=0.0, min_impurity_split=None,\n",
      "            min_samples_leaf=1, min_samples_split=2,\n",
      "            min_weight_fraction_leaf=0.0, n_estimators=100, n_jobs=1,\n",
      "            oob_score=False, random_state=None, verbose=0,\n",
      "            warm_start=False)\n",
      "_ _ _\n",
      "accuracy = 0.9177852348993288\n",
      "_ _ _\n",
      "precision = 0.9000707706005229\n",
      "_ _ _\n",
      "recall = 0.8367169306679578\n",
      "_ _ _\n",
      "f1 = 0.8632702544812133\n",
      "\n",
      "\n",
      "GradientBoostingClassifier(criterion='friedman_mse', init=None,\n",
      "              learning_rate=0.1, loss='deviance', max_depth=3,\n",
      "              max_features=None, max_leaf_nodes=None,\n",
      "              min_impurity_decrease=0.0, min_impurity_split=None,\n",
      "              min_samples_leaf=1, min_samples_split=2,\n",
      "              min_weight_fraction_leaf=0.0, n_estimators=100,\n",
      "              presort='auto', random_state=None, subsample=1.0, verbose=0,\n",
      "              warm_start=False)\n",
      "_ _ _\n",
      "accuracy = 0.9099552572706935\n",
      "_ _ _\n",
      "precision = 0.8926049438138195\n",
      "_ _ _\n",
      "recall = 0.8175912476078485\n",
      "_ _ _\n",
      "f1 = 0.8477287694492711\n",
      "\n",
      "\n"
     ]
    }
   ],
   "source": [
    "# list of algorithms we compare\n",
    "classifiers = [\n",
    "    KNeighborsClassifier(n_neighbors=3),\n",
    "    KNeighborsClassifier(),\n",
    "    KNeighborsClassifier(n_neighbors=7),\n",
    "    KNeighborsClassifier(n_neighbors=9),\n",
    "    SVC(),\n",
    "    DecisionTreeClassifier(),\n",
    "    LogisticRegression(),\n",
    "    ensemble.RandomForestClassifier(n_estimators=100),\n",
    "    ensemble.GradientBoostingClassifier(n_estimators=100)\n",
    "]\n",
    "\n",
    "for item in classifiers:\n",
    "    print(item)\n",
    "    clf = item\n",
    "    clf.fit(X_train, y_train)\n",
    "    \n",
    "    y_predict = clf.predict(X_test)\n",
    "    a1 = accuracy_score(y_test, y_predict)\n",
    "    p1 = precision_score(y_test, y_predict, average=\"macro\")\n",
    "    r1 = recall_score(y_test, y_predict, average=\"macro\")\n",
    "    f1 = f1_score(y_test, y_predict, average=\"macro\")\n",
    "    \n",
    "    \n",
    "    print(\"_ _ _\")\n",
    "    print(\"accuracy = \" + str(a1))\n",
    "    print(\"_ _ _\")\n",
    "    print(\"precision = \" + str(p1))\n",
    "    print(\"_ _ _\")\n",
    "    print(\"recall = \" + str(r1))\n",
    "    print(\"_ _ _\")\n",
    "    print(\"f1 = \" + str(f1))\n",
    "    print(\"\\n\")"
   ]
  },
  {
   "cell_type": "markdown",
   "metadata": {},
   "source": [
    "# Conclusion: \n",
    "&#10102; The best result of accuracy = 0.9177852348993288 (RandomForestClassifier)\n",
    "<br>\n",
    "<br>\n",
    "&#10103; The best result of recall = 0.8367169306679578 (RandomForestClassifier)\n",
    "<br>\n",
    "<br>\n",
    "&#10104; The best result of precision = 0.9290852210449397 (KNeighborsClassifier(n_neighbors=3))\n",
    "<br>\n",
    "<br>\n",
    "&#10105; The best result of f1 = 0.8632702544812133 (RandomForestClassifier)\n",
    "<br>\n",
    "<br>\n",
    "&#10004; Random Forest gives the good results."
   ]
  }
 ],
 "metadata": {
  "kernelspec": {
   "display_name": "Python 3",
   "language": "python",
   "name": "python3"
  },
  "language_info": {
   "codemirror_mode": {
    "name": "ipython",
    "version": 3
   },
   "file_extension": ".py",
   "mimetype": "text/x-python",
   "name": "python",
   "nbconvert_exporter": "python",
   "pygments_lexer": "ipython3",
   "version": "3.6.4"
  }
 },
 "nbformat": 4,
 "nbformat_minor": 2
}
